{
 "cells": [
  {
   "cell_type": "markdown",
   "metadata": {},
   "source": [
    "## Welcome to the first assignment!\n",
    "\n",
    "In this assignment, we'll get introduced to our dataset for the course.\n",
    "The dataset is represented as a `pandas` data frame, so we'll also get acquainted with `pandas`.\n",
    "Finally, since `pandas` relies on `numpy`, we'll get to know `numpy` a little."
   ]
  },
  {
   "cell_type": "code",
   "execution_count": 1,
   "metadata": {},
   "outputs": [],
   "source": [
    "# Let's open the dataset\n",
    "# If you haven't already:\n",
    "#  1. head over to the sharepoint site\n",
    "#  2. download 'accounts.zip'\n",
    "#  3. unzip it to reveal 'accounts.pkl'\n",
    "\n",
    "import pickle\n",
    "\n",
    "with open('accounts.pkl', 'rb') as f:\n",
    "    df = pickle.load(f)"
   ]
  },
  {
   "cell_type": "code",
   "execution_count": 2,
   "metadata": {},
   "outputs": [
    {
     "data": {
      "text/plain": [
       "pandas.core.frame.DataFrame"
      ]
     },
     "execution_count": 2,
     "metadata": {},
     "output_type": "execute_result"
    }
   ],
   "source": [
    "# What's the type of df?"
   ]
  },
  {
   "cell_type": "code",
   "execution_count": 3,
   "metadata": {},
   "outputs": [],
   "source": [
    "# Get some help on df"
   ]
  },
  {
   "cell_type": "code",
   "execution_count": 4,
   "metadata": {},
   "outputs": [
    {
     "data": {
      "text/plain": [
       "(2358308, 44)"
      ]
     },
     "execution_count": 4,
     "metadata": {},
     "output_type": "execute_result"
    }
   ],
   "source": [
    "# How many rows and columns are in df?"
   ]
  },
  {
   "cell_type": "code",
   "execution_count": 5,
   "metadata": {},
   "outputs": [
    {
     "data": {
      "text/plain": [
       "Index(['ACCOUNT_ID', 'WEB_USER_ID', 'COMP_FUNDCODE', 'ACCOUNT_NUMBER',\n",
       "       'WEB_ELIGIBLE_IND', 'ACCOUNT_TYPE', 'FUND_FAMILY', 'USE_NAME',\n",
       "       'SORT_NAME1', 'OPEN_DATE', 'CLOSE_DATE', 'BIRTH_DATE', 'SDW_LOAD_DATE',\n",
       "       'TOTAL_SHARE_BALANCE', 'AVAIL_SHARES', 'FIRM_IDENTIFIER',\n",
       "       'BRANCH_IDENTIFIER', 'REP_IDENTIFIER', 'SWP_FLAG', 'STOP_CODE',\n",
       "       'RETIRE_PLAN_TYPE', 'SOCIAL_CODE', 'RET_PRODUCT_IND',\n",
       "       'RET_PRODUCT_IND2', 'MATRIX_LEVEL', 'RPO_CODE', 'SSN_VERIFIED_FLAG',\n",
       "       'TAX_WITH_ELECT', 'GEOGRAPHIC_AREA_CODE', 'ACCOUNT_GROUP_IDENTIFIER',\n",
       "       'TELEPHONE_NUMBER', 'EFT_BANK_NUMBER', 'PAC_BANK_ACCOUNT',\n",
       "       'TEL_EXCH_FLAG', 'TEL_LIQ_FLAG', 'ACH_LIQ_FLAG', 'ACH_PURCH_FLAG',\n",
       "       'DEALER_TEL_EXCH_FLAG', 'DEALER_TEL_LIQ_FLAG', 'DEALER_ACH_LIQ_FLAG',\n",
       "       'DEALER_ACH_PURCH_FLAG', 'SPECIAL_WARNING_CODE', 'ACCOUNT_STATUS',\n",
       "       'REGISTRATION_TYPE'],\n",
       "      dtype='object')"
      ]
     },
     "execution_count": 5,
     "metadata": {},
     "output_type": "execute_result"
    }
   ],
   "source": [
    "# What are the columns in df?"
   ]
  },
  {
   "cell_type": "code",
   "execution_count": 6,
   "metadata": {},
   "outputs": [
    {
     "name": "stdout",
     "output_type": "stream",
     "text": [
      "0                0\n",
      "1                1\n",
      "2                2\n",
      "3                3\n",
      "4                4\n",
      "5                5\n",
      "6                6\n",
      "7                7\n",
      "8                8\n",
      "9                9\n",
      "10              10\n",
      "11              11\n",
      "12              12\n",
      "13              13\n",
      "14              14\n",
      "15              15\n",
      "16              16\n",
      "17              17\n",
      "18              18\n",
      "19              19\n",
      "20              20\n",
      "21              21\n",
      "22              22\n",
      "23              23\n",
      "24              24\n",
      "25              25\n",
      "26              26\n",
      "27              27\n",
      "28              28\n",
      "29              29\n",
      "            ...   \n",
      "2358278    2358278\n",
      "2358279    2358279\n",
      "2358280    2358280\n",
      "2358281    2358281\n",
      "2358282    2358282\n",
      "2358283    2358283\n",
      "2358284    2358284\n",
      "2358285    2358285\n",
      "2358286    2358286\n",
      "2358287    2358287\n",
      "2358288    2358288\n",
      "2358289    2358289\n",
      "2358290    2358290\n",
      "2358291    2358291\n",
      "2358292    2358292\n",
      "2358293    2358293\n",
      "2358294    2358294\n",
      "2358295    2358295\n",
      "2358296    2358296\n",
      "2358297    2358297\n",
      "2358298    2358298\n",
      "2358299    2358299\n",
      "2358300    2358300\n",
      "2358301    2358301\n",
      "2358302    2358302\n",
      "2358303    2358303\n",
      "2358304    2358304\n",
      "2358305    2358305\n",
      "2358306    2358306\n",
      "2358307    2358307\n",
      "Name: ACCOUNT_ID, Length: 2358308, dtype: int32\n",
      "The data type int32\n",
      "Some values 10    10\n",
      "11    11\n",
      "12    12\n",
      "13    13\n",
      "14    14\n",
      "Name: ACCOUNT_ID, dtype: int32\n",
      "Number of values missing 0\n"
     ]
    }
   ],
   "source": [
    "# Take a look at ACCOUNT_ID column. \n",
    "# What is its type?\n",
    "# What are some of the values in the column?\n",
    "# How many of the values are missing?"
   ]
  },
  {
   "cell_type": "code",
   "execution_count": 7,
   "metadata": {},
   "outputs": [
    {
     "data": {
      "text/plain": [
       "category"
      ]
     },
     "execution_count": 7,
     "metadata": {},
     "output_type": "execute_result"
    }
   ],
   "source": [
    "# Now let's look at ACCOUNT_STATUS\n",
    "# What is its data type?"
   ]
  },
  {
   "cell_type": "code",
   "execution_count": 10,
   "metadata": {},
   "outputs": [
    {
     "data": {
      "text/plain": [
       "ACCOUNT_STATUS\n",
       "Closed         80\n",
       "Open      2358228\n",
       "Name: ACCOUNT_ID, dtype: int64"
      ]
     },
     "execution_count": 10,
     "metadata": {},
     "output_type": "execute_result"
    }
   ],
   "source": [
    "# How many occurences of each ACCOUNT_STATUS are there?\n",
    "# Another way of asking the question: How many unique ACCOUNT_IDs are there, grouped by ACCOUNT_STATUS\n",
    "# Hint: read help(df.groupby) and read help(df.nunique)"
   ]
  },
  {
   "cell_type": "code",
   "execution_count": 11,
   "metadata": {},
   "outputs": [
    {
     "name": "stdout",
     "output_type": "stream",
     "text": [
      "2011-10-29 00:00:00 8\n"
     ]
    }
   ],
   "source": [
    "# What's the most common OPEN_DATE among records with an ACCOUNT_STATUS of closed?\n",
    "# How many closed accounts have this open date?"
   ]
  },
  {
   "cell_type": "code",
   "execution_count": 12,
   "metadata": {},
   "outputs": [
    {
     "data": {
      "text/plain": [
       "count    2.358308e+06\n",
       "mean     7.330772e+03\n",
       "std      5.095968e+05\n",
       "min      1.000000e-03\n",
       "25%      8.652100e+01\n",
       "50%      3.112335e+02\n",
       "75%      1.138500e+03\n",
       "max      5.491509e+08\n",
       "Name: TOTAL_SHARE_BALANCE, dtype: float64"
      ]
     },
     "execution_count": 12,
     "metadata": {},
     "output_type": "execute_result"
    }
   ],
   "source": [
    "# Finally, let's look at TOTAL_SHARE_BALANCE\n",
    "# Look at the .describe method. Answer the following questions:\n",
    "#  Are there any missing (aka null) values?\n",
    "#  What's the mean and standard deviation?\n",
    "#  What's the median (aka 50th percentile)?\n",
    "#  The mean and the median are pretty different. What does that tell you?"
   ]
  },
  {
   "cell_type": "code",
   "execution_count": 4,
   "metadata": {},
   "outputs": [
    {
     "data": {
      "text/plain": [
       "array([  231.391,   471.357,    94.967,   662.569,   322.18 ,   541.632,\n",
       "         239.015,   772.865,    90.761,   121.856,  1769.901,   336.442,\n",
       "         106.965,   162.486,  2080.098,   293.703,   144.268,    55.203,\n",
       "         316.638,   811.13 ,   290.822,   182.603,   163.985,    11.292,\n",
       "         660.66 ])"
      ]
     },
     "execution_count": 4,
     "metadata": {},
     "output_type": "execute_result"
    }
   ],
   "source": [
    "# Let's do some random sampling\n",
    "# A useful function for random sampling is the choice function from numpy.random.\n",
    "# Import choice and get a sample of size 25 from TOTAL_SHARE_BALANCE"
   ]
  },
  {
   "cell_type": "code",
   "execution_count": 5,
   "metadata": {},
   "outputs": [],
   "source": [
    "# Define a function that samples the TOTAL_SHARE_BALANCE column\n",
    "# and returns the mean of the sample.\n",
    "# The function should take one argument: the sample size"
   ]
  },
  {
   "cell_type": "code",
   "execution_count": 33,
   "metadata": {},
   "outputs": [],
   "source": [
    "# Using a loop, find how large of a sample size\n",
    "# is required to get the sample mean to within\n",
    "# 5 percent of the population mean discovered \n",
    "# above with the .describe method. \n",
    "# Hint: start with a sample size of 500 and \n",
    "# work up in increments of 1000.\n"
   ]
  },
  {
   "cell_type": "code",
   "execution_count": 36,
   "metadata": {},
   "outputs": [],
   "source": [
    "# Rerun that loop 500 times, collecting the\n",
    "# sample size returned into a numpy array.\n",
    "# What's the mean and standard deviation of \n",
    "# the resulting array? How reliable is the above \n",
    "# estimate of a \"good\" sample size?"
   ]
  },
  {
   "cell_type": "code",
   "execution_count": 16,
   "metadata": {},
   "outputs": [
    {
     "name": "stdout",
     "output_type": "stream",
     "text": [
      "13414.0\n",
      "9247.41066461\n"
     ]
    }
   ],
   "source": []
  },
  {
   "cell_type": "code",
   "execution_count": 7,
   "metadata": {},
   "outputs": [
    {
     "name": "stdout",
     "output_type": "stream",
     "text": [
      "13416.0\n",
      "8867.74740281\n"
     ]
    }
   ],
   "source": []
  }
 ],
 "metadata": {
  "kernelspec": {
   "display_name": "Python 3",
   "language": "python",
   "name": "python3"
  },
  "language_info": {
   "codemirror_mode": {
    "name": "ipython",
    "version": 3
   },
   "file_extension": ".py",
   "mimetype": "text/x-python",
   "name": "python",
   "nbconvert_exporter": "python",
   "pygments_lexer": "ipython3",
   "version": "3.6.7"
  }
 },
 "nbformat": 4,
 "nbformat_minor": 2
}
